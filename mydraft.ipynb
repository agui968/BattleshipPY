{
 "cells": [
  {
   "cell_type": "code",
   "execution_count": 1,
   "metadata": {},
   "outputs": [],
   "source": [
    "\"\"\"MY DRAFT FOR SINK THE FLEET\"\"\"\n",
    "#imports deben ir en todos los docs\n",
    "import numpy as np\n",
    "import random"
   ]
  },
  {
   "cell_type": "code",
   "execution_count": 4,
   "metadata": {},
   "outputs": [
    {
     "data": {
      "text/plain": [
       "'Crear clase fleet p/ coordenadas y keep track?'"
      ]
     },
     "execution_count": 4,
     "metadata": {},
     "output_type": "execute_result"
    }
   ],
   "source": [
    "\"\"\"CLASES\"\"\"\n",
    "#test test\n",
    "class Ship():\n",
    "    \n",
    "    def __init__(self,boat_length:int, name:str,state=True):\n",
    "        self.boat_length=boat_length\n",
    "        self.name=name\n",
    "        self.state=state\n",
    "\n",
    "\"\"\"Crear clase fleet p/ coordenadas y keep track?\"\"\"\n",
    "    \n",
    "\n",
    "#   \"\"\"  #def my_boats_lives(self,*boats):\n",
    "#         self.boats=boats\n",
    "#         my_boats=[]\n",
    "#         my_boats.append(random_boat)\n",
    "        \n",
    "#         for boat in my_boats:\n",
    "#             for position in boat:\n",
    "#                 if position==\"X\":\n",
    "#                     my_boats.pop(boat)\n",
    "#         return my_boats\"\"\"\n",
    "#         #add if boat is sunk or hit, and substract from lives\n",
    "\n",
    "    \n",
    "    # def sunk(self, board):\n",
    "    #     if \"O\" not in self.boat:\n",
    "    #         self.state=False\n",
    "    \n",
    "    # def hit(self, board):\n",
    "    #     if \"X\" and \"O\" in self.boat:\n",
    "    #         #it's hit\n",
    "    \n",
    "#barcos de cada jugador, cuáles están tocados y demás. Simplemente con llevar un inventario de las coordenadas con barco es suficiente. Por ejemplo, si el tablero tuviese 2 barcos de 4 posiciones de eslora, es como si tuvieses 8 vidas. Cuando se te acaban las vidas, pierdes.\n",
    "#CREAR OBJETOS DE CLASE"
   ]
  },
  {
   "cell_type": "code",
   "execution_count": 5,
   "metadata": {},
   "outputs": [],
   "source": [
    "#OBJETOS DE LA CLASE SHIP\n",
    "\"\"\"VARIABLES y objetos de clase\"\"\"\n",
    "#my boats\n",
    "mdestroyer1=Ship(1,\"mdestroyer1\")\n",
    "mdestroyer2=Ship(1,\"mdestroyer2\")\n",
    "mdestroyer3=Ship(1,\"mdestroyer3\")\n",
    "mdestroyer4=Ship(1,\"mdestroyer4\")\n",
    "mpatrol1=Ship(2,\"mpatrol1\")\n",
    "mpatrol2=Ship(2,\"mpatrol2\")\n",
    "mpatrol3=Ship(2,\"mpatrol3\")\n",
    "msubmarine1=Ship(3,\"msubmarine1\")\n",
    "msubmarine2=Ship(3,\"msubmarine2\")\n",
    "mcarrier1=Ship(4,\"mcarrier1\")\n",
    "\n",
    "#same for opponent"
   ]
  },
  {
   "cell_type": "code",
   "execution_count": 11,
   "metadata": {},
   "outputs": [
    {
     "name": "stdout",
     "output_type": "stream",
     "text": [
      "{'mdestroyer1': [(7, 5)], 'mdestroyer2': [(4, 1)], 'mdestroyer3': [(0, 7)], 'mdestroyer4': [(1, 9)], 'mpatrol1': [(2, 7), (3, 7)], 'mpatrol2': [(2, 6), (3, 6)], 'mpatrol3': [(1, 3), (2, 3)], 'msubmarine1': [(7, 9), (7, 8), (7, 7)], 'msubmarine2': [(9, 3), (8, 3), (7, 3)], 'mcarrier1': [(2, 2), (3, 2), (4, 2), (5, 2)]}\n"
     ]
    }
   ],
   "source": [
    "my_fleet={} #DICCIONARIO DE MIS BARCOS\n",
    "boats1=[mdestroyer1,mdestroyer2,mdestroyer3,mdestroyer4]\n",
    "for boat in boats1:\n",
    "    my_fleet[boat.name]=randomize_boat(1)\n",
    "# print(my_fleet)\n",
    "\n",
    "my_boats2={}\n",
    "boats2=[mpatrol1,mpatrol2,mpatrol3]\n",
    "for boat in boats2:\n",
    "    my_boats2[boat.name]=randomize_boat(2)\n",
    "my_fleet.update(my_boats2)\n",
    "\n",
    "my_boats3={}\n",
    "boats3=[msubmarine1,msubmarine2]\n",
    "for boat in boats3:\n",
    "    my_boats3[boat.name]=randomize_boat(3)\n",
    "my_fleet.update(my_boats3)\n",
    "# print(my_fleet)\n",
    "my_fleet[mcarrier1.name]=randomize_boat(4)\n",
    "print(my_fleet) #IMPRIMIR AL INICIAR\n",
    "\n",
    "# class Fleet():\n",
    "    "
   ]
  },
  {
   "cell_type": "code",
   "execution_count": 7,
   "metadata": {},
   "outputs": [],
   "source": [
    "class Board():\n",
    "    def __init__(self,size=(10,10)): #quitar constructor?\n",
    "        self.size=size\n",
    "    \n",
    "    def set_board(size=(10,10)):\n",
    "        return np.array(np.full(size, \" \"))\n",
    "        \n",
    "# set_board()\n",
    "    #2 objects, mine & opp\n",
    "\n",
    "#funct de colocar barco tiene qe estar aquí dentro p/ q se actualice el tablero"
   ]
  },
  {
   "cell_type": "code",
   "execution_count": 14,
   "metadata": {},
   "outputs": [
    {
     "ename": "TypeError",
     "evalue": "'Board' object is not callable",
     "output_type": "error",
     "traceback": [
      "\u001b[1;31m---------------------------------------------------------------------------\u001b[0m",
      "\u001b[1;31mTypeError\u001b[0m                                 Traceback (most recent call last)",
      "\u001b[1;32mc:\\Users\\Agui\\Documents\\Profesional\\01_Formacion\\01_TB_bcmp_DS\\Core curriculum_Student\\Entregas\\Hundir la flota\\SinkTheFleet_AGV\\mydraft.ipynb Cell 6\u001b[0m line \u001b[0;36m4\n\u001b[0;32m      <a href='vscode-notebook-cell:/c%3A/Users/Agui/Documents/Profesional/01_Formacion/01_TB_bcmp_DS/Core%20curriculum_Student/Entregas/Hundir%20la%20flota/SinkTheFleet_AGV/mydraft.ipynb#W5sZmlsZQ%3D%3D?line=1'>2</a>\u001b[0m my_board\u001b[39m=\u001b[39mBoard()\n\u001b[0;32m      <a href='vscode-notebook-cell:/c%3A/Users/Agui/Documents/Profesional/01_Formacion/01_TB_bcmp_DS/Core%20curriculum_Student/Entregas/Hundir%20la%20flota/SinkTheFleet_AGV/mydraft.ipynb#W5sZmlsZQ%3D%3D?line=2'>3</a>\u001b[0m opp_board\u001b[39m=\u001b[39mBoard()\n\u001b[1;32m----> <a href='vscode-notebook-cell:/c%3A/Users/Agui/Documents/Profesional/01_Formacion/01_TB_bcmp_DS/Core%20curriculum_Student/Entregas/Hundir%20la%20flota/SinkTheFleet_AGV/mydraft.ipynb#W5sZmlsZQ%3D%3D?line=3'>4</a>\u001b[0m \u001b[39mprint\u001b[39m(my_board())\n\u001b[0;32m      <a href='vscode-notebook-cell:/c%3A/Users/Agui/Documents/Profesional/01_Formacion/01_TB_bcmp_DS/Core%20curriculum_Student/Entregas/Hundir%20la%20flota/SinkTheFleet_AGV/mydraft.ipynb#W5sZmlsZQ%3D%3D?line=4'>5</a>\u001b[0m \u001b[39m# print(my_board.size)\u001b[39;00m\n\u001b[0;32m      <a href='vscode-notebook-cell:/c%3A/Users/Agui/Documents/Profesional/01_Formacion/01_TB_bcmp_DS/Core%20curriculum_Student/Entregas/Hundir%20la%20flota/SinkTheFleet_AGV/mydraft.ipynb#W5sZmlsZQ%3D%3D?line=5'>6</a>\u001b[0m \n\u001b[0;32m      <a href='vscode-notebook-cell:/c%3A/Users/Agui/Documents/Profesional/01_Formacion/01_TB_bcmp_DS/Core%20curriculum_Student/Entregas/Hundir%20la%20flota/SinkTheFleet_AGV/mydraft.ipynb#W5sZmlsZQ%3D%3D?line=6'>7</a>\u001b[0m \u001b[39m# print(type(opp_board))\u001b[39;00m\n",
      "\u001b[1;31mTypeError\u001b[0m: 'Board' object is not callable"
     ]
    }
   ],
   "source": [
    "#CLASS BOARD OBJECTS\n",
    "my_board=Board()\n",
    "opp_board=Board()\n",
    "print(my_board())\n",
    "# print(my_board.size)\n",
    "\n",
    "# print(type(opp_board))"
   ]
  },
  {
   "cell_type": "code",
   "execution_count": 25,
   "metadata": {},
   "outputs": [],
   "source": [
    "\"\"\"FUNCIONES Y MÉTODOS\"\"\"\n",
    "# def set_board(size=(11,11)): #debe ir dentro de la clase board\n",
    "#     board=np.full(size, \" \")\n",
    "#     return print(board)\n",
    "# # set_board()"
   ]
  },
  {
   "cell_type": "code",
   "execution_count": null,
   "metadata": {},
   "outputs": [],
   "source": [
    "# def set_board(size=(10,10)): #debe ir dentro de la clase board\n",
    "#     board=np.full(size, str(\" \"))\n",
    "#     board[0]=np.arange(1,11)\n",
    "#     board[:,0]=np.arange(1,11)\n",
    "#     return print(board)\n",
    "\n",
    "# set_board()"
   ]
  },
  {
   "cell_type": "code",
   "execution_count": 12,
   "metadata": {},
   "outputs": [
    {
     "ename": "TypeError",
     "evalue": "'Board' object does not support item assignment",
     "output_type": "error",
     "traceback": [
      "\u001b[1;31m---------------------------------------------------------------------------\u001b[0m",
      "\u001b[1;31mTypeError\u001b[0m                                 Traceback (most recent call last)",
      "\u001b[1;32mc:\\Users\\Agui\\Documents\\Profesional\\01_Formacion\\01_TB_bcmp_DS\\Core curriculum_Student\\Entregas\\Hundir la flota\\SinkTheFleet_AGV\\mydraft.ipynb Cell 9\u001b[0m line \u001b[0;36m8\n\u001b[0;32m      <a href='vscode-notebook-cell:/c%3A/Users/Agui/Documents/Profesional/01_Formacion/01_TB_bcmp_DS/Core%20curriculum_Student/Entregas/Hundir%20la%20flota/SinkTheFleet_AGV/mydraft.ipynb#X11sZmlsZQ%3D%3D?line=5'>6</a>\u001b[0m     \u001b[39mreturn\u001b[39;00m board \u001b[39m#sin *?\u001b[39;00m\n\u001b[0;32m      <a href='vscode-notebook-cell:/c%3A/Users/Agui/Documents/Profesional/01_Formacion/01_TB_bcmp_DS/Core%20curriculum_Student/Entregas/Hundir%20la%20flota/SinkTheFleet_AGV/mydraft.ipynb#X11sZmlsZQ%3D%3D?line=6'>7</a>\u001b[0m \u001b[39m# from stf_variables import my_boats\u001b[39;00m\n\u001b[1;32m----> <a href='vscode-notebook-cell:/c%3A/Users/Agui/Documents/Profesional/01_Formacion/01_TB_bcmp_DS/Core%20curriculum_Student/Entregas/Hundir%20la%20flota/SinkTheFleet_AGV/mydraft.ipynb#X11sZmlsZQ%3D%3D?line=7'>8</a>\u001b[0m place_boat(my_fleet,my_board)\n\u001b[0;32m     <a href='vscode-notebook-cell:/c%3A/Users/Agui/Documents/Profesional/01_Formacion/01_TB_bcmp_DS/Core%20curriculum_Student/Entregas/Hundir%20la%20flota/SinkTheFleet_AGV/mydraft.ipynb#X11sZmlsZQ%3D%3D?line=9'>10</a>\u001b[0m \u001b[39m# EJEMPLO def colocar_barco(barco,tablero):\u001b[39;00m\n\u001b[0;32m     <a href='vscode-notebook-cell:/c%3A/Users/Agui/Documents/Profesional/01_Formacion/01_TB_bcmp_DS/Core%20curriculum_Student/Entregas/Hundir%20la%20flota/SinkTheFleet_AGV/mydraft.ipynb#X11sZmlsZQ%3D%3D?line=10'>11</a>\u001b[0m \u001b[39m#     for casilla in barco:\u001b[39;00m\n\u001b[0;32m     <a href='vscode-notebook-cell:/c%3A/Users/Agui/Documents/Profesional/01_Formacion/01_TB_bcmp_DS/Core%20curriculum_Student/Entregas/Hundir%20la%20flota/SinkTheFleet_AGV/mydraft.ipynb#X11sZmlsZQ%3D%3D?line=11'>12</a>\u001b[0m \u001b[39m#         tablero[casilla]=\"O\"\u001b[39;00m\n\u001b[0;32m     <a href='vscode-notebook-cell:/c%3A/Users/Agui/Documents/Profesional/01_Formacion/01_TB_bcmp_DS/Core%20curriculum_Student/Entregas/Hundir%20la%20flota/SinkTheFleet_AGV/mydraft.ipynb#X11sZmlsZQ%3D%3D?line=12'>13</a>\u001b[0m \u001b[39m#     return tablero\u001b[39;00m\n",
      "\u001b[1;32mc:\\Users\\Agui\\Documents\\Profesional\\01_Formacion\\01_TB_bcmp_DS\\Core curriculum_Student\\Entregas\\Hundir la flota\\SinkTheFleet_AGV\\mydraft.ipynb Cell 9\u001b[0m line \u001b[0;36m5\n\u001b[0;32m      <a href='vscode-notebook-cell:/c%3A/Users/Agui/Documents/Profesional/01_Formacion/01_TB_bcmp_DS/Core%20curriculum_Student/Entregas/Hundir%20la%20flota/SinkTheFleet_AGV/mydraft.ipynb#X11sZmlsZQ%3D%3D?line=2'>3</a>\u001b[0m \u001b[39mfor\u001b[39;00m boat \u001b[39min\u001b[39;00m fleet\u001b[39m.\u001b[39mvalues():\n\u001b[0;32m      <a href='vscode-notebook-cell:/c%3A/Users/Agui/Documents/Profesional/01_Formacion/01_TB_bcmp_DS/Core%20curriculum_Student/Entregas/Hundir%20la%20flota/SinkTheFleet_AGV/mydraft.ipynb#X11sZmlsZQ%3D%3D?line=3'>4</a>\u001b[0m     \u001b[39mfor\u001b[39;00m row,col \u001b[39min\u001b[39;00m boat:\n\u001b[1;32m----> <a href='vscode-notebook-cell:/c%3A/Users/Agui/Documents/Profesional/01_Formacion/01_TB_bcmp_DS/Core%20curriculum_Student/Entregas/Hundir%20la%20flota/SinkTheFleet_AGV/mydraft.ipynb#X11sZmlsZQ%3D%3D?line=4'>5</a>\u001b[0m         board[row,col] \u001b[39m=\u001b[39m \u001b[39m\"\u001b[39m\u001b[39mO\u001b[39m\u001b[39m\"\u001b[39m\n\u001b[0;32m      <a href='vscode-notebook-cell:/c%3A/Users/Agui/Documents/Profesional/01_Formacion/01_TB_bcmp_DS/Core%20curriculum_Student/Entregas/Hundir%20la%20flota/SinkTheFleet_AGV/mydraft.ipynb#X11sZmlsZQ%3D%3D?line=5'>6</a>\u001b[0m \u001b[39mreturn\u001b[39;00m board\n",
      "\u001b[1;31mTypeError\u001b[0m: 'Board' object does not support item assignment"
     ]
    }
   ],
   "source": [
    "def place_boat(fleet:dict, board):\n",
    "    #COMPROBAR Q COORD<LEN TABLERO, Q CABE\n",
    "    for boat in fleet.values():\n",
    "        for row,col in boat:\n",
    "            board[row,col] = \"O\"\n",
    "    return board #sin *?\n",
    "# from stf_variables import my_boats\n",
    "place_boat(my_fleet,my_board)\n",
    "\n",
    "# EJEMPLO def colocar_barco(barco,tablero):\n",
    "#     for casilla in barco:\n",
    "#         tablero[casilla]=\"O\"\n",
    "#     return tablero"
   ]
  },
  {
   "cell_type": "code",
   "execution_count": 8,
   "metadata": {},
   "outputs": [
    {
     "data": {
      "text/plain": [
       "[(5, 6), (5, 7), (5, 8), (5, 9)]"
      ]
     },
     "execution_count": 8,
     "metadata": {},
     "output_type": "execute_result"
    }
   ],
   "source": [
    "def randomize_boat(boat_length:int): #outside of ship class\n",
    "\n",
    "    rdirection=random.choice([\"N\",\"S\",\"E\",\"W\"])\n",
    "    random_boat = []\n",
    "    random_row = random.randint(0,9)\n",
    "    random_column = random.randint(0,9)\n",
    "    random_boat.append((random_row, random_column))\n",
    "\n",
    "    while len(random_boat) < boat_length:\n",
    "        #if len(random_boat)+coordinate>10: break\n",
    "        #if (random_row,random_column)==\"O\" (or \"X\"): break\n",
    "        if rdirection==\"W\": #boat(x,y-1)\n",
    "            random_column -=1 # random_column - 1\n",
    "            random_boat.append((random_row, random_column))\n",
    "        elif rdirection==\"E\": #boat(x,y+1)\n",
    "            random_column +=1 #random_column + 1\n",
    "            random_boat.append((random_row, random_column))\n",
    "        elif rdirection==\"N\": #boat(x-1,y)\n",
    "            random_row -=1 #random_row - 1\n",
    "            random_boat.append((random_row, random_column))\n",
    "        elif rdirection==\"S\": #boat(x+1,y))\n",
    "            random_row +=1 #random_row + 1\n",
    "            random_boat.append((random_row, random_column))\n",
    "        # else:\n",
    "        #     print(\"Error\")\n",
    "    return random_boat\n",
    "randomize_boat(4)"
   ]
  },
  {
   "cell_type": "code",
   "execution_count": 15,
   "metadata": {},
   "outputs": [],
   "source": [
    "#yo:\n",
    "def set_game(board,boats):\n",
    "    set_board()\n",
    "    \n",
    "    for boat in my_boats:\n",
    "        #IF BOARD[POSITION]=\"O\", PASS/ FOR I IN BOAT_LENGTH: IF BOARD[POSITION]=\"O\" PASS (nested)\n",
    "        place_boat(boat)#my_boat) /opponent\"\"\n",
    "\n",
    "#yo\n",
    "# def set_lives(boats):\n",
    "#     while sum(boats)>0:\n",
    "#       #play\n",
    "#SET WINNING CONDITION, IF LEN(OPPONENT'S BOATS)==0"
   ]
  },
  {
   "cell_type": "code",
   "execution_count": 16,
   "metadata": {},
   "outputs": [
    {
     "ename": "TypeError",
     "evalue": "'tuple' object cannot be interpreted as an integer",
     "output_type": "error",
     "traceback": [
      "\u001b[1;31m---------------------------------------------------------------------------\u001b[0m",
      "\u001b[1;31mTypeError\u001b[0m                                 Traceback (most recent call last)",
      "\u001b[1;32mc:\\Users\\Agui\\Documents\\Profesional\\01_Formacion\\01_TB_bcmp_DS\\Core curriculum_Student\\Entregas\\Hundir la flota\\SinkTheFleet_AGV\\mydraft.ipynb Cell 12\u001b[0m line \u001b[0;36m2\n\u001b[0;32m      <a href='vscode-notebook-cell:/c%3A/Users/Agui/Documents/Profesional/01_Formacion/01_TB_bcmp_DS/Core%20curriculum_Student/Entregas/Hundir%20la%20flota/SinkTheFleet_AGV/mydraft.ipynb#X14sZmlsZQ%3D%3D?line=0'>1</a>\u001b[0m position\u001b[39m=\u001b[39m\u001b[39m1\u001b[39m\n\u001b[1;32m----> <a href='vscode-notebook-cell:/c%3A/Users/Agui/Documents/Profesional/01_Formacion/01_TB_bcmp_DS/Core%20curriculum_Student/Entregas/Hundir%20la%20flota/SinkTheFleet_AGV/mydraft.ipynb#X14sZmlsZQ%3D%3D?line=1'>2</a>\u001b[0m position \u001b[39min\u001b[39;00m \u001b[39mrange\u001b[39;49m(my_board\u001b[39m.\u001b[39;49msize)\n",
      "\u001b[1;31mTypeError\u001b[0m: 'tuple' object cannot be interpreted as an integer"
     ]
    }
   ],
   "source": [
    "position=1\n",
    "position in range(my_board.size)"
   ]
  },
  {
   "cell_type": "code",
   "execution_count": 17,
   "metadata": {},
   "outputs": [
    {
     "ename": "SyntaxError",
     "evalue": "invalid syntax (3591379299.py, line 1)",
     "output_type": "error",
     "traceback": [
      "\u001b[1;36m  Cell \u001b[1;32mIn[17], line 1\u001b[1;36m\u001b[0m\n\u001b[1;33m    def shoot_target(np.ndarray(input(position)),board:Board):\u001b[0m\n\u001b[1;37m                       ^\u001b[0m\n\u001b[1;31mSyntaxError\u001b[0m\u001b[1;31m:\u001b[0m invalid syntax\n"
     ]
    }
   ],
   "source": [
    "def shoot_target(np.ndarray(tuple(input(position))),board:Board):\n",
    "#main gameplay function\n",
    "#CAMBIAR POSITION A INPUT DE COORDENADAS (¿hACER CON LETRAS UNO DE ELLOS?)\n",
    "#COMPROBAR Q COORDENADA ESTÁ EN EL TABLERO\n",
    "    if position in range(board):\n",
    "    if board[position] == \" \":\n",
    "        print(\"You missed!\")\n",
    "        board[position] = \"~\"\n",
    "    elif board[position]==\"~\" or board[position]==\"X\":\n",
    "        print(\"You already shot that cell...\")\n",
    "        break\n",
    "    else:    \n",
    "        print(\"It's a hit!\")\n",
    "        board[position] = \"X\"\n",
    "        #add if it's a hit and sunk: if boat[position] in boat: if \"O\" not in boat: sunk\n",
    "    return print(board) #print solo el mio, no el del adversario\n",
    "#añadir print de vidas / barcos en pie\n",
    "#DEFINIR TB PARA TURNO DE LA IA y hacer print de la coordenada\n",
    "\n",
    "#al acabar, print del tablero del oponente\n",
    "#opción de quit o de restart?\n",
    "\n",
    "#DEBUG\n"
   ]
  },
  {
   "cell_type": "code",
   "execution_count": null,
   "metadata": {},
   "outputs": [],
   "source": [
    "\"\"\"\n",
    "TO DO:\n",
    "-Q NO SE SOLAPEN BARCOS\n",
    "-Q NO SE SALGAN DEL TABLERO <- next step; hacer un while con continue\n",
    "-documentar\n",
    "-ordenar cada .py\n",
    "-subir a github (git clone, git add, commit, push):\n",
    "UN README CON INFO DEL REPOSITORIO\n",
    "-hacer demo y probarla en terminal /terminal>python main.py\n",
    "-practicar funcionamiento del código\n",
    "-opción de quit o de restart?\n",
    "-DEBUG\n",
    "(-interfaz y florituras como time.sleep())\n",
    "-instrucciones\n",
    "-practicar presentación\n",
    "\n",
    "-script variables: dimensionesboard, nº barcos\n",
    "\n",
    "-REGISTRO D DND HA DISPARADO P/ NO REPETIR COORD (IF COORD IN REGISTRO, REPETIR DISPARO ELSEWHERE O MIRAR SI CASILLA ESTÁ DISPARADA \"-\")\n",
    "\n",
    "Extras:\n",
    "-sonido, imagen\n",
    "-q no se toquen barcos\n",
    "\n",
    "DUDAS:\n",
    "-poner seed en generador de barcos? en demo aunque sea? NO\n",
    "-demo como enfocarla? x dnd empezar? CORTA Y COMO YO QUIERA, Y VER TABLERO IA\n",
    "-if i have a Ship class and i have a function to create a random boat with random coordinates,\n",
    "should the function be part of the class? or should the class have the coordinates as an attribute\n",
    "and therefore the function should be executed before the class?\n",
    "\n",
    "-ERROR AL COLOCAR BARCO POR CLASE BARCO: def place_boat(fleet:dict, board): \"board object doesn't support item assignment\"\n",
    "-->embed  place ship func inside the class:\n",
    "\n",
    "class Board():\n",
    "    def __init__(self, size=(10, 10)):\n",
    "        self.size = size\n",
    "        self.data = np.full(size, \" \")\n",
    "\n",
    "    def place_ship(self, row, col):\n",
    "        self.data[row, col] = \"O\"\n",
    "\n",
    "def place_boat(fleet: dict, board: Board):\n",
    "    for boat in fleet.values():\n",
    "        for row, col in boat:\n",
    "            board.place_ship(row, col)\n",
    "    return board\n",
    "\n",
    "resulting_board = place_boat(my_fleet, my_board)\n",
    "print(resulting_board.data)\n",
    "\n",
    "\n",
    "-functs de clase tb a doc de funcs? y viceversa? no\n",
    "-en terminal como ejecuto solo una vez? si tengo q ejecutar no va todo?\n",
    "-exit() se me cuelga en ipynb (pa opciones del juego) --> usar quit()\n",
    "\"\"\""
   ]
  }
 ],
 "metadata": {
  "kernelspec": {
   "display_name": "Python 3",
   "language": "python",
   "name": "python3"
  },
  "language_info": {
   "codemirror_mode": {
    "name": "ipython",
    "version": 3
   },
   "file_extension": ".py",
   "mimetype": "text/x-python",
   "name": "python",
   "nbconvert_exporter": "python",
   "pygments_lexer": "ipython3",
   "version": "3.11.6"
  },
  "orig_nbformat": 4
 },
 "nbformat": 4,
 "nbformat_minor": 2
}
